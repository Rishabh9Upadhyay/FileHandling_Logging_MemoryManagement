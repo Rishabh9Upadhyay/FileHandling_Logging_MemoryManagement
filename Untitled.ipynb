{
 "cells": [
  {
   "cell_type": "code",
   "execution_count": 1,
   "id": "9534be43-212c-4179-a43c-c8b3d8513cc0",
   "metadata": {},
   "outputs": [],
   "source": [
    "# Comments for heading markdown then ## data           -  for bullets"
   ]
  },
  {
   "cell_type": "code",
   "execution_count": 3,
   "id": "e0a5d18a-7fc9-4af3-97e5-1c00727b5ae7",
   "metadata": {},
   "outputs": [
    {
     "data": {
      "text/plain": [
       "'Hello'"
      ]
     },
     "execution_count": 3,
     "metadata": {},
     "output_type": "execute_result"
    }
   ],
   "source": [
    "'''Hello'''"
   ]
  },
  {
   "cell_type": "markdown",
   "id": "2544a090-28f2-483b-a8f7-266d6a2608d2",
   "metadata": {},
   "source": [
    "## Hello"
   ]
  },
  {
   "cell_type": "markdown",
   "id": "8c3a97e1-93e1-48bb-b448-f4888c1eac1a",
   "metadata": {},
   "source": [
    "# Python Tutorial\n",
    "## Lets start\n",
    "- Data Science"
   ]
  },
  {
   "cell_type": "code",
   "execution_count": 4,
   "id": "b2e765d3-0700-40bc-839f-74196df36157",
   "metadata": {},
   "outputs": [
    {
     "data": {
      "text/plain": [
       "int"
      ]
     },
     "execution_count": 4,
     "metadata": {},
     "output_type": "execute_result"
    }
   ],
   "source": [
    "type(1)"
   ]
  },
  {
   "cell_type": "code",
   "execution_count": 5,
   "id": "d2e00bfb-c3b0-42b4-83fe-86d604bd44f7",
   "metadata": {},
   "outputs": [
    {
     "data": {
      "text/plain": [
       "float"
      ]
     },
     "execution_count": 5,
     "metadata": {},
     "output_type": "execute_result"
    }
   ],
   "source": [
    "type(1.0)"
   ]
  },
  {
   "cell_type": "code",
   "execution_count": 6,
   "id": "59b277dd-7648-490c-98dd-f50385ac0400",
   "metadata": {},
   "outputs": [
    {
     "data": {
      "text/plain": [
       "bool"
      ]
     },
     "execution_count": 6,
     "metadata": {},
     "output_type": "execute_result"
    }
   ],
   "source": [
    "type(True)"
   ]
  },
  {
   "cell_type": "code",
   "execution_count": 7,
   "id": "0462f5ff-f338-4e18-89b3-96251bfe867a",
   "metadata": {},
   "outputs": [
    {
     "name": "stdout",
     "output_type": "stream",
     "text": [
      "Rishabh Upadhyay\n"
     ]
    }
   ],
   "source": [
    "print(\"Rishabh Upadhyay\")"
   ]
  },
  {
   "cell_type": "code",
   "execution_count": 8,
   "id": "e1477026-a017-4ffc-a0fb-04ea5c59d756",
   "metadata": {},
   "outputs": [
    {
     "name": "stdout",
     "output_type": "stream",
     "text": [
      "My first name is Rishabh and last name is Upadhyay\n"
     ]
    }
   ],
   "source": [
    "f_name = \"Rishabh\"\n",
    "l_name = \"Upadhyay\"\n",
    "print(\"My first name is {} and last name is {}\".format(f_name,l_name))"
   ]
  },
  {
   "cell_type": "code",
   "execution_count": 12,
   "id": "efd6230b-2aa7-44e6-9bda-95dd16ff599f",
   "metadata": {},
   "outputs": [
    {
     "name": "stdout",
     "output_type": "stream",
     "text": [
      "My first name is Rishabh and last name is Upadhyay\n"
     ]
    }
   ],
   "source": [
    "print(\"My first name is {f_name1} and last name is {l_name1}\".format(f_name1=f_name,l_name1=l_name))"
   ]
  },
  {
   "cell_type": "code",
   "execution_count": 13,
   "id": "83f96f45-1973-4495-8a18-b1816fe6451f",
   "metadata": {},
   "outputs": [
    {
     "data": {
      "text/plain": [
       "16"
      ]
     },
     "execution_count": 13,
     "metadata": {},
     "output_type": "execute_result"
    }
   ],
   "source": [
    "len(\"Rishabh Upadhyay\")"
   ]
  },
  {
   "cell_type": "code",
   "execution_count": 15,
   "id": "8414df17-e009-4592-a3e6-b7995f1f92dd",
   "metadata": {},
   "outputs": [
    {
     "data": {
      "text/plain": [
       "True"
      ]
     },
     "execution_count": 15,
     "metadata": {},
     "output_type": "execute_result"
    }
   ],
   "source": [
    "bool(True)"
   ]
  },
  {
   "cell_type": "code",
   "execution_count": 16,
   "id": "fddd4132-70e4-4d8e-b40f-d0ad2f8f49bc",
   "metadata": {},
   "outputs": [],
   "source": [
    "name = \"Rishabh Upadhyay\""
   ]
  },
  {
   "cell_type": "code",
   "execution_count": 17,
   "id": "396df2ae-a411-469f-94a7-9f7a82733d24",
   "metadata": {},
   "outputs": [
    {
     "data": {
      "text/plain": [
       "'Rishabh upadhyay'"
      ]
     },
     "execution_count": 17,
     "metadata": {},
     "output_type": "execute_result"
    }
   ],
   "source": [
    "name.capitalize()"
   ]
  },
  {
   "cell_type": "code",
   "execution_count": 18,
   "id": "ec2ad3d6-da24-4734-a45a-d7f5bd63855f",
   "metadata": {},
   "outputs": [
    {
     "data": {
      "text/plain": [
       "'Rishabh Upadhyay'"
      ]
     },
     "execution_count": 18,
     "metadata": {},
     "output_type": "execute_result"
    }
   ],
   "source": [
    "name"
   ]
  },
  {
   "cell_type": "markdown",
   "id": "5ce21675-ee2c-435e-b2a3-005eb5bd6a09",
   "metadata": {},
   "source": [
    "### Now learn \n",
    "- Boolean Variable\n",
    "- Boolean and logical operator\n",
    "- Lists\n",
    "- "
   ]
  }
 ],
 "metadata": {
  "kernelspec": {
   "display_name": "Python 3 (ipykernel)",
   "language": "python",
   "name": "python3"
  },
  "language_info": {
   "codemirror_mode": {
    "name": "ipython",
    "version": 3
   },
   "file_extension": ".py",
   "mimetype": "text/x-python",
   "name": "python",
   "nbconvert_exporter": "python",
   "pygments_lexer": "ipython3",
   "version": "3.12.2"
  }
 },
 "nbformat": 4,
 "nbformat_minor": 5
}
