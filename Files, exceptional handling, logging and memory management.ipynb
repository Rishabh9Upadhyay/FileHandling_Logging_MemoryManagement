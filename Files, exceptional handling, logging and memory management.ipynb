{
 "cells": [
  {
   "cell_type": "markdown",
   "id": "bd20480d-54a5-4bf4-b25d-e4563395f859",
   "metadata": {},
   "source": [
    "# Theory Questions\n",
    "***1. What is the difference between interpreted and compiled languages?***\n",
    "- These are some difference between compiled and iterpreter language\n",
    "    - Interpreter Language:\n",
    "      - Code is executed line by line by an interpreter.\n",
    "      - Generally slower because code is translated on the fly.\n",
    "      - Often used for scripting, web development, and rapid prototyping.\n",
    "    - Compiled Language:\n",
    "        - Code is transformed into machine code by a compiler before execution.\n",
    "        - Faster since the code is already translated into machine language before execution.\n",
    "        - Errors are detected during the compilation process before the program is run.\n",
    "        - Preferred for applications requiring high performance and efficiency."
   ]
  },
  {
   "cell_type": "markdown",
   "id": "9a690e49-4205-4239-86dc-84117ece1bee",
   "metadata": {},
   "source": [
    "***2.  What is exception handling in Python?***\n",
    "- Exception handling in Python allows you to manage and respond to errors during program execution using try, except, else, and finally blocks. It ensures the program continues running smoothly even when unexpected issues occur.\n",
    "\n",
    "***3. What is the purpose of the finally block in exception handling?***\n",
    "- The finally block in exception handling is used to execute code regardless of whether an exception occurred or not. It's typically used for cleanup actions like closing files or releasing resources.\n",
    "\n",
    "***4. What is logging in Python?***\n",
    "- Logging in Python is a way to record and track events that occur during the execution of a program.\n",
    "The logging module in Python provides a flexible framework for generating log messages at different severity levels. These levels include:\n",
    "    - DEBUG: Detailed information, typically useful for diagnosing problems.\n",
    "    - INFO: General information about the application's execution.\n",
    "    - WARNING: Indications of potential issues that aren't errors.\n",
    "    - ERROR: Errors that might cause the program to function incorrectly.\n",
    "    - CRITICAL: Severe errors that usually lead to program termination.\n",
    "\n",
    "***5. What is the significance of the __del__ method in Python?***\n",
    "- The __del__ method in Python is a special method called a destructor. It is automatically invoked when an object is about to be destroyed, typically when it goes out of scope or is explicitly deleted using del."
   ]
  },
  {
   "cell_type": "markdown",
   "id": "d0ef775c-bcb3-4442-bae1-d817d21169c2",
   "metadata": {},
   "source": [
    "***6.  What is the difference between import and from ... import in Python?***\n",
    "- import brings in the whole module, while from ... import brings in specific elements for direct use."
   ]
  },
  {
   "cell_type": "markdown",
   "id": "5ec18a4c-24c0-4ed8-972b-ece544fddbc8",
   "metadata": {},
   "source": [
    "***7. How can you handle multiple exceptions in Python?***\n",
    "- You can handle multiple exceptions in Python using multiple except blocks\n",
    "\n",
    "***8. What is the purpose of the with statement when handling files in Python?***\n",
    "- The with statement in Python is used for resource management, particularly with file handling. It ensures that the file is properly closed after its block of code is executed, even if an exception occurs. This eliminates the need for explicitly closing the file with file.close() and helps prevent resource leaks."
   ]
  },
  {
   "cell_type": "markdown",
   "id": "368bc509-89b1-4091-90a0-193622dee7fc",
   "metadata": {},
   "source": [
    "***9. What is the difference between multithreading and multiprocessing?***\n",
    "- Multithreading:\n",
    "    - Involves multiple threads running within a single process, sharing the same memory space.\n",
    "    - Threads share the same memory space, making it easier to share data but requiring synchronization to avoid conflicts.\n",
    "- Multiprocessing:\n",
    "    - Involves multiple processes running independently, each with its own memory space.\n",
    "    - Processes have separate memory spaces, reducing the risk of data conflicts but requiring more memory."
   ]
  },
  {
   "cell_type": "markdown",
   "id": "686cb18b-59bd-4d56-8b91-d4c4fc09ab2f",
   "metadata": {},
   "source": [
    "***10. What are the advantages of using logging in a program?***\n",
    "- Can output logs to different destinations like console, files, or external systems.\n",
    "- Helps track down issues by recording events, errors, and important status messages."
   ]
  },
  {
   "cell_type": "markdown",
   "id": "3da20f31-c4ad-4465-848c-a4c4e0624852",
   "metadata": {},
   "source": [
    "***11. What is memory management in Python?***\n",
    "- Memory management in Python refers to the process of efficiently allocating, managing, and freeing memory for objects during program execution.\n",
    "\n",
    "***12. What are the basic steps involved in exception handling in Python?***\n",
    "- The basic steps involved in exception handling in Python are:\n",
    "    - Try Block: Write the code that may potentially raise an exception inside the try block.\n",
    "    - Except Block: Define one or more except blocks to handle specific exceptions when they occur.\n",
    "    - Else Block: If no exception occurs in the try block, the else block will be executed.\n",
    "    - Finally Block: The finally block is executed no matter what, and is used for cleanup actions like closing files."
   ]
  },
  {
   "cell_type": "markdown",
   "id": "cb6dae60-05e9-466a-a897-6e6dd76a229d",
   "metadata": {},
   "source": [
    "***13. Why is memory management important in Python?***\n",
    "- Memory management in Python is important for several reasons:\n",
    "    - Improve performance.\n",
    "    - Automatic Garbage Collection\n",
    "    - Avoiding Memory Leaks.\n",
    "    - Efficient Resource Use."
   ]
  },
  {
   "cell_type": "markdown",
   "id": "bfafe6dd-d6a5-4f3b-9ea0-2dd65cb13a42",
   "metadata": {},
   "source": [
    "***14. What is the role of try and except in exception handling?***\n",
    "- try Block: This is where you place the code that might raise an exception. The program attempts to execute the code inside the try block. If an exception occurs, it will be caught by the corresponding except block.\n",
    "- except Block: If an exception is raised in the try block, the code inside the except block is executed to handle the exception. You can specify the type of exception to catch, or catch all exceptions.\n",
    "\n",
    "***15. How does Python's garbage collection system work?***\n",
    "- The garbage collector handles circular references and periodically checks for objects that can be safely deallocated. This combination ensures efficient memory management and prevents memory leaks in Python applications.\n",
    "\n",
    "***16. What is the purpose of the else block in exception handling?***\n",
    "- The else block in exception handling is used to define code that should run only if no exception occurs in the try block. It is placed after all the except blocks. If the code inside the try block executes successfully without raising an exception, the else block is executed.\n",
    "\n",
    "***17. What are the common logging levels in Python?***\n",
    "- DEBUG: Detailed information, typically useful for diagnosing problems.\n",
    "- INFO: General information about the application's execution.\n",
    "- WARNING: Indications of potential issues that aren't errors.\n",
    "- ERROR: Errors that might cause the program to function incorrectly.\n",
    "- CRITICAL: Severe errors that usually lead to program termination.\n",
    "\n",
    "***18. What is the difference between os.fork() and multiprocessing in Python?***\n",
    "- The main differences between os.fork() and multiprocessing in Python are:\n",
    "    - os.fork():\n",
    "        - Creates a child process by duplicating the calling process.\n",
    "        - Available only on Unix-based systems (Linux, macOS).\n",
    "        - The child process is a copy of the parent process, with separate memory space.\n",
    "    - multiprocessing:\n",
    "        - Provides a high-level interface for creating and managing multiple processes.\n",
    "        - Cross-platform, works on both Unix and Windows.\n",
    "        - Uses separate memory spaces for each process, but provides features like shared memory, queues, and pipes for communication.\n"
   ]
  },
  {
   "cell_type": "markdown",
   "id": "0c771630-5d52-4bf3-a1eb-b5679857c013",
   "metadata": {},
   "source": [
    "***19. What is the importance of closing a file in Python?***\n",
    "-  When a file is opened, the system allocates resources (e.g., memory, file handles). Closing the file releases these resources, making them available for other processes.\n",
    "-  Some systems lock files when they are open. Closing the file ensures that other processes can access it without conflicts.\n",
    "\n",
    "***20. What is the difference between file.read() and file.readline() in Python?***\n",
    "- file.read() Reads the entire content of the file at once and returns it as a single string while in other file.readline() read a single line from the file at a time."
   ]
  },
  {
   "cell_type": "markdown",
   "id": "5a512255-f5df-4c53-9586-5a5613a1f852",
   "metadata": {},
   "source": [
    "***21. What is the logging module in Python used for?***\n",
    "- The logging module in Python is used for tracking and recording log messages from a program. It allows you to log different levels of information, such as errors, warnings, debug messages, and more, helping with debugging, monitoring, and understanding the flow of a program.\n",
    "\n",
    "***22. What is the os module in Python used for in file handling?***\n",
    "- The os module in Python provides a way to interact with the operating system and perform various file handling operations.\n",
    "  "
   ]
  },
  {
   "cell_type": "markdown",
   "id": "58159626-7bd9-4798-a386-77534d251e9c",
   "metadata": {},
   "source": [
    "***23. What are the challenges associated with memory management in Python?***\n",
    "- Garbage Collection Overhead.\n",
    "- Python’s memory allocator may face fragmentation issues in long-running programs. As memory is allocated and freed dynamically, the system’s memory management may not always be optimal, leading to inefficient use of memory.\n",
    "\n",
    "***24. How do you raise an exception manually in Python?***\n",
    "- You can raise an exception manually in Python using the raise keyword, followed by an exception instance or a specific exception class.\n",
    "    - *raise ValueError(\"This is a custom error message.\")*\n",
    "\n",
    "***25. Why is it important to use multithreading in certain applications?***\n",
    "- Multithreading is important in certain applications because it allows for concurrent execution of tasks, improving performance by utilizing multiple CPU cores, enhancing responsiveness, and making efficient use of time for I/O-bound or CPU-bound operations, such as web servers or data processing. It enables tasks to run in parallel, reducing overall execution time."
   ]
  },
  {
   "cell_type": "markdown",
   "id": "9f37438a-6a8e-4c8a-8694-f8b5a2e9a6f5",
   "metadata": {},
   "source": [
    "# Practical Questions"
   ]
  },
  {
   "cell_type": "code",
   "execution_count": 11,
   "id": "73f45332-d765-43ae-b012-ebf631058730",
   "metadata": {},
   "outputs": [],
   "source": [
    "#1. How can you open a file for writing in Python and write a string to it?\n",
    "with open('abc.txt', 'w') as f:\n",
    "    f.write(\"Hello, world!\")"
   ]
  },
  {
   "cell_type": "code",
   "execution_count": 12,
   "id": "3662ebbc-e2bc-43b5-ba2b-bc19900ac745",
   "metadata": {},
   "outputs": [
    {
     "name": "stdout",
     "output_type": "stream",
     "text": [
      "Hello, world!\n"
     ]
    }
   ],
   "source": [
    "#2. Write a Python program to read the contents of a file and print each line?\n",
    "f = open('abc.txt','r')\n",
    "lst = f.readlines()\n",
    "for line in lst:\n",
    "    print(line)\n",
    "f.close()"
   ]
  },
  {
   "cell_type": "code",
   "execution_count": 13,
   "id": "59e47739-020c-4b6d-b7d4-81eb1e94dd86",
   "metadata": {},
   "outputs": [],
   "source": [
    "#3. How would you handle a case where the file doesn't exist while trying to open it for reading?\n",
    "try:\n",
    "    f = open('xyz.txt','r')\n",
    "except FileNotFoundError:\n",
    "    print(\"No such file\")\n",
    "else:\n",
    "    f.close()"
   ]
  },
  {
   "cell_type": "code",
   "execution_count": 14,
   "id": "59b89876-12ac-4321-982e-e1f4af5655f2",
   "metadata": {},
   "outputs": [
    {
     "name": "stdout",
     "output_type": "stream",
     "text": [
      "\n"
     ]
    }
   ],
   "source": [
    "#4. Write a Python script that reads from one file and writes its content to another file.\n",
    "f1 = open('abc.txt','r')\n",
    "f2 = open('xyz.txt','w')\n",
    "for item in f1:\n",
    "    f2.write(item)\n",
    "f3 = open('xyz.txt','r')\n",
    "print(f3.read())\n",
    "f1.close()\n",
    "f2.close()\n",
    "f3.close()"
   ]
  },
  {
   "cell_type": "code",
   "execution_count": 15,
   "id": "3de640d4-df8d-4876-b9a1-f0ce15098fac",
   "metadata": {},
   "outputs": [
    {
     "name": "stdout",
     "output_type": "stream",
     "text": [
      "division by zero\n"
     ]
    }
   ],
   "source": [
    " #5. How would you catch and handle division by zero error in Python?\n",
    "try:\n",
    "    num1 = 10\n",
    "    num2 = 0\n",
    "    num1 = num1/num2\n",
    "except ZeroDivisionError as e:\n",
    "    print(e)"
   ]
  },
  {
   "cell_type": "code",
   "execution_count": 16,
   "id": "7caba22c-e8b7-4d35-a273-53a5accebf57",
   "metadata": {},
   "outputs": [
    {
     "name": "stdout",
     "output_type": "stream",
     "text": [
      "An error occurred, check the log file for details.\n"
     ]
    }
   ],
   "source": [
    "#6. Write a Python program that logs an error message to a log file when a division by zero exception occurs?\n",
    "import logging\n",
    "\n",
    "logging.basicConfig(filename='error_log.txt', level=logging.ERROR)\n",
    "try:\n",
    "    result = 10 / 0\n",
    "except ZeroDivisionError as e:\n",
    "    logging.error(\"Division by zero error: %s\", e)\n",
    "    print(\"An error occurred, check the log file for details.\")"
   ]
  },
  {
   "cell_type": "code",
   "execution_count": 17,
   "id": "f9fb1ba9-dda5-4dfe-a816-c13f89c5dae0",
   "metadata": {},
   "outputs": [],
   "source": [
    "#7.  How do you log information at different levels (INFO, ERROR, WARNING) in Python using the logging module?\n",
    "import logging\n",
    "\n",
    "logging.basicConfig(filename = 'loglevel.txt', level=logging.DEBUG)\n",
    "\n",
    "# Log messages at different levels\n",
    "logging.debug(\"This is a debug message.\")\n",
    "logging.info(\"This is an info message.\")\n",
    "logging.warning(\"This is a warning message.\")\n",
    "logging.error(\"This is an error message.\")\n",
    "logging.critical(\"This is a critical message.\")"
   ]
  },
  {
   "cell_type": "code",
   "execution_count": 18,
   "id": "3a320e01-b44e-4c84-8faf-05c396be71d2",
   "metadata": {},
   "outputs": [
    {
     "name": "stdout",
     "output_type": "stream",
     "text": [
      "[Errno 2] No such file or directory: 'xyz1.txt'\n"
     ]
    }
   ],
   "source": [
    "#8. Write a program to handle a file opening error using exception handling.\n",
    "try:\n",
    "    f = open('xyz1.txt','r')\n",
    "except FileNotFoundError as e:\n",
    "    print(e)\n",
    "else:\n",
    "    f.close()"
   ]
  },
  {
   "cell_type": "code",
   "execution_count": 19,
   "id": "97ee1b34-ef28-4041-8d8e-a66fb75a71db",
   "metadata": {},
   "outputs": [],
   "source": [
    "#9. How can you read a file line by line and store its content in a list in Python?\n",
    "f = open('abc.txt','r')\n",
    "lst = f.readlines()\n",
    "lst\n",
    "f.close()"
   ]
  },
  {
   "cell_type": "code",
   "execution_count": 21,
   "id": "eba22911-de7d-4034-afd7-2f84350d6feb",
   "metadata": {},
   "outputs": [
    {
     "name": "stdout",
     "output_type": "stream",
     "text": [
      "Hello, world!\n"
     ]
    }
   ],
   "source": [
    "#10. How can you append data to an existing file in Python?\n",
    "f1 = open('xyz.txt','r')\n",
    "print(f1.read())\n",
    "f2 = open('xyz.txt','a')\n",
    "f2.write(\"this is appended data\")\n",
    "f1.read()\n",
    "f1.close()\n",
    "f2.close()"
   ]
  },
  {
   "cell_type": "code",
   "execution_count": 22,
   "id": "822f7380-91c5-4f14-9395-e43d6c249b8c",
   "metadata": {},
   "outputs": [
    {
     "name": "stdout",
     "output_type": "stream",
     "text": [
      "The key 'address' does not exist in the dictionary.\n"
     ]
    }
   ],
   "source": [
    "#11. Write a Python program that uses a try-except block to handle an error when attempting to access a dictionary key that doesn't exist\n",
    "my_dict = {'name': 'Rishabh', 'age': 24}\n",
    "\n",
    "try:\n",
    "    value = my_dict['address']\n",
    "except KeyError:\n",
    "    print(\"The key 'address' does not exist in the dictionary.\")"
   ]
  },
  {
   "cell_type": "code",
   "execution_count": 23,
   "id": "d06aab58-c218-47dd-b5fb-aa5c0f859da3",
   "metadata": {},
   "outputs": [
    {
     "name": "stdout",
     "output_type": "stream",
     "text": [
      "Error: Division by zero is not allowed.\n"
     ]
    }
   ],
   "source": [
    "#12. Write a program that demonstrates using multiple except blocks to handle different types of exceptions.\n",
    "try:\n",
    "    result = 10 / 0\n",
    "    my_dict = {'name': 'Alice'}\n",
    "    value = my_dict['age']\n",
    "except ZeroDivisionError:\n",
    "    print(\"Error: Division by zero is not allowed.\")\n",
    "except KeyError:\n",
    "    print(\"Error: The specified key does not exist in the dictionary.\")\n",
    "except Exception as e:\n",
    "    print(f\"An unexpected error occurred: {e}\")"
   ]
  },
  {
   "cell_type": "code",
   "execution_count": 24,
   "id": "826b65f4-8ace-4bcd-949a-c8cf0c3892fa",
   "metadata": {},
   "outputs": [
    {
     "name": "stdout",
     "output_type": "stream",
     "text": [
      "Hello, world!\n"
     ]
    }
   ],
   "source": [
    "# 13. How would you check if a file exists before attempting to read it in Python?\n",
    "try:\n",
    "    f = open(\"abc.txt\",\"r\")\n",
    "except FileNotFoundError as e:\n",
    "    print(e)\n",
    "else:\n",
    "    print(f.read())\n",
    "    f.close()"
   ]
  },
  {
   "cell_type": "code",
   "execution_count": 25,
   "id": "287cdb6e-13e3-4cfe-ba10-77e542044604",
   "metadata": {},
   "outputs": [],
   "source": [
    "# 14. Write a program that uses the logging module to log both informational and error messages.\n",
    "import logging\n",
    "logging.basicConfig(filename='app.log', level=logging.INFO)\n",
    "logging.info(\"This is an informational message.\")\n",
    "try:\n",
    "    result = 10 / 0\n",
    "except ZeroDivisionError as e:\n",
    "    logging.error(\"An error occurred: %s\", e)\n",
    "\n",
    "logging.info(\"Program executed successfully.\")"
   ]
  },
  {
   "cell_type": "code",
   "execution_count": 26,
   "id": "547c365c-dcdd-45e4-be47-86a108a15da0",
   "metadata": {},
   "outputs": [
    {
     "name": "stdout",
     "output_type": "stream",
     "text": [
      "The file does not exist.\n"
     ]
    }
   ],
   "source": [
    "# 15. Write a Python program that prints the content of a file and handles the case when the file is empty.\n",
    "try:\n",
    "    with open('a.txt', 'r') as file:\n",
    "        content = file.read()\n",
    "        if not content:\n",
    "            print(\"The file is empty.\")\n",
    "        else:\n",
    "            print(\"File content:\")\n",
    "            print(content)\n",
    "except FileNotFoundError:\n",
    "    print(\"The file does not exist.\")\n"
   ]
  },
  {
   "cell_type": "code",
   "execution_count": 27,
   "id": "d441a139-0089-484e-8590-dd8b49320329",
   "metadata": {},
   "outputs": [
    {
     "name": "stdout",
     "output_type": "stream",
     "text": [
      "ERROR: Could not find file C:\\Users\\ru336\\AppData\\Local\\Temp\\ipykernel_13040\\2656380240.py\n"
     ]
    }
   ],
   "source": [
    "#16. Demonstrate how to use memory profiling to check the memory usage of a small program.\n",
    "from memory_profiler import profile\n",
    "@profile\n",
    "def my_function():\n",
    "    a = [1] * (10 ** 6)  \n",
    "    b = [2] * (2 * 10 ** 7)\n",
    "    del b  \n",
    "    return a\n",
    "\n",
    "if __name__ == \"__main__\":\n",
    "    my_function()\n"
   ]
  },
  {
   "cell_type": "code",
   "execution_count": 28,
   "id": "8e976fe6-6b34-4817-b5cc-e9bc68930c7a",
   "metadata": {},
   "outputs": [],
   "source": [
    "# 17. Write a Python program to create and write a list of numbers to a file, one number per line.\n",
    "numbers = [1, 2, 3, 4, 5, 6, 7, 8, 9, 10]\n",
    "with open('numbers.txt', 'w') as file:\n",
    "    for number in numbers:\n",
    "        file.write(f\"{number}\\n\")"
   ]
  },
  {
   "cell_type": "code",
   "execution_count": 29,
   "id": "731faa85-d595-496f-a2eb-ac75620d2273",
   "metadata": {},
   "outputs": [],
   "source": [
    "# 18. How would you implement a basic logging setup that logs to a file with rotation after 1MB?\n",
    "import logging\n",
    "from logging.handlers import RotatingFileHandler\n",
    "\n",
    "handler = RotatingFileHandler('app.log', maxBytes=1e6, backupCount=3)\n",
    "handler.setLevel(logging.INFO)\n",
    "\n",
    "formatter = logging.Formatter('%(asctime)s - %(levelname)s - %(message)s')\n",
    "handler.setFormatter(formatter)\n",
    "\n",
    "logger = logging.getLogger()\n",
    "logger.setLevel(logging.INFO)\n",
    "logger.addHandler(handler)\n",
    "\n",
    "logger.info(\"This is an info message.\")\n",
    "logger.error(\"This is an error message.\")"
   ]
  },
  {
   "cell_type": "code",
   "execution_count": 30,
   "id": "09bf15b8-dde9-46e5-9bc6-df8b006a59eb",
   "metadata": {},
   "outputs": [
    {
     "name": "stdout",
     "output_type": "stream",
     "text": [
      "IndexError: list index out of range - Invalid index in the list.\n"
     ]
    }
   ],
   "source": [
    "# 19. Write a program that handles both IndexError and KeyError using a try-except block.\n",
    "my_list = [1, 2, 3]\n",
    "my_dict = {'name': 'Rishabh', 'age': 24}\n",
    "\n",
    "try:\n",
    "    print(my_list[5])  \n",
    "    print(my_dict['address']) \n",
    "except IndexError as ie:\n",
    "    print(f\"IndexError: {ie} - Invalid index in the list.\")\n",
    "\n",
    "except KeyError as ke:\n",
    "    print(f\"KeyError: {ke} - Key not found in the dictionary.\")\n"
   ]
  },
  {
   "cell_type": "code",
   "execution_count": 31,
   "id": "3f513791-d7f0-425c-8f8a-5c8e57644132",
   "metadata": {},
   "outputs": [
    {
     "name": "stdout",
     "output_type": "stream",
     "text": [
      "Hello, world!this is appended data\n"
     ]
    }
   ],
   "source": [
    "# 20.How would you open a file and read its contents using a context manager in Python?\n",
    "with open('xyz.txt', 'r') as file:\n",
    "    content = file.read()\n",
    "    print(content)"
   ]
  },
  {
   "cell_type": "code",
   "execution_count": 32,
   "id": "edbd9ed6-a2d9-453f-90af-bbafa6adf04a",
   "metadata": {},
   "outputs": [
    {
     "name": "stdout",
     "output_type": "stream",
     "text": [
      "0\n"
     ]
    }
   ],
   "source": [
    "# 21. Write a Python program that reads a file and prints the number of occurrences of a specific word.\n",
    "f = open('abc1.txt','w')\n",
    "lst = f.readlines()\n",
    "content = \" \".join(lst)\n",
    "lst = content.split(\" \")\n",
    "word = \"line\"\n",
    "print(lst.count(word))\n",
    "f.close()"
   ]
  },
  {
   "cell_type": "code",
   "execution_count": null,
   "id": "1b486b05-b458-44ee-896b-f21aded682bc",
   "metadata": {},
   "outputs": [],
   "source": [
    "# 22. How can you check if a file is empty before attempting to read its contents?\n",
    "try:\n",
    "    f = open('abc.txt','r')\n",
    "    content = f.read()\n",
    "    if not content:\n",
    "        print(\"The file is empty\")\n",
    "    else:\n",
    "        print(\"File content:\")\n",
    "        print(content)\n",
    "except FileNotFoundError:\n",
    "    print(\"The file does not exist.\")"
   ]
  },
  {
   "cell_type": "code",
   "execution_count": null,
   "id": "89f79511-ed79-4aff-9a04-ac8199de7e74",
   "metadata": {},
   "outputs": [],
   "source": [
    "# 23. Write a Python program that writes to a log file when an error occurs during file handling.\n",
    "import logging\n",
    "logging.basicConfig(filename='file_handling_errors.log', level=logging.ERROR)\n",
    "\n",
    "def read_file(file_name):\n",
    "    try:\n",
    "        with open(file_name, 'r') as file:\n",
    "            content = file.read()\n",
    "            print(content)\n",
    "    except Exception as e:\n",
    "        logging.error(f\"Error occurred while handling the file: {e}\")\n",
    "        print(\"An error occurred. Please check the log file for more details.\")\n",
    "\n",
    "read_file('error_log.txt')"
   ]
  }
 ],
 "metadata": {
  "kernelspec": {
   "display_name": "Python 3 (ipykernel)",
   "language": "python",
   "name": "python3"
  },
  "language_info": {
   "codemirror_mode": {
    "name": "ipython",
    "version": 3
   },
   "file_extension": ".py",
   "mimetype": "text/x-python",
   "name": "python",
   "nbconvert_exporter": "python",
   "pygments_lexer": "ipython3",
   "version": "3.12.2"
  }
 },
 "nbformat": 4,
 "nbformat_minor": 5
}
